{
 "cells": [
  {
   "cell_type": "code",
   "execution_count": 1,
   "metadata": {},
   "outputs": [],
   "source": [
    "from pyspark.sql import SparkSession\n",
    "from pyspark.sql.functions import *"
   ]
  },
  {
   "cell_type": "code",
   "execution_count": 2,
   "metadata": {},
   "outputs": [],
   "source": [
    "#Create a Spark Application\n",
    "spark = SparkSession.builder.appName(\"groupbyagg\").getOrCreate()"
   ]
  },
  {
   "cell_type": "code",
   "execution_count": 3,
   "metadata": {},
   "outputs": [],
   "source": [
    "#Load the athlete_events.csv from Local System\n",
    "athlete_events = spark.read.csv('file:///home/hduser/demo_1/athlete_events.csv',sep=',',inferSchema=True,header=True)"
   ]
  },
  {
   "cell_type": "code",
   "execution_count": 4,
   "metadata": {},
   "outputs": [],
   "source": [
    "athlete_events.createOrReplaceTempView(\"athlete_events_view\")"
   ]
  },
  {
   "cell_type": "code",
   "execution_count": 5,
   "metadata": {},
   "outputs": [],
   "source": [
    "#Change your DB and table name as per your requirements...\n",
    "MySQL_URL = \"jdbc:mysql://localhost:3306/sqoop\"\n",
    "MySQL_driver = \"com.mysql.jdbc.Driver\"\n",
    "MySQL_table = \"athlete_events_MySQL\"\n",
    "user = \"root\"\n",
    "password = \"password\""
   ]
  },
  {
   "cell_type": "code",
   "execution_count": 6,
   "metadata": {},
   "outputs": [],
   "source": [
    "#Write a spark DF into a MySQL table.\n",
    "athlete_events.write.format('jdbc').options(url=MySQL_URL,driver=MySQL_driver,dbtable=MySQL_table,user=user,password=password).mode('overwrite').save()"
   ]
  },
  {
   "cell_type": "code",
   "execution_count": 7,
   "metadata": {},
   "outputs": [],
   "source": [
    "#Read the data from MySQL table and store it in a spark DF.\n",
    "Read_From_MySQL = spark.read.format(\"jdbc\").option(\"url\", MySQL_URL).option(\"driver\", MySQL_driver).option(\"dbtable\", MySQL_table).option(\"user\", user).option(\"password\", password).load()\n"
   ]
  },
  {
   "cell_type": "code",
   "execution_count": 9,
   "metadata": {
    "scrolled": true
   },
   "outputs": [
    {
     "name": "stdout",
     "output_type": "stream",
     "text": [
      "+-----+--------------------+---+---+------+------+-----+---+-----------+----+------+---------+--------+--------------------+------+\n",
      "|   ID|                Name|Sex|Age|Height|Weight| Team|NOC|      Games|Year|Season|     City|   Sport|               Event| Medal|\n",
      "+-----+--------------------+---+---+------+------+-----+---+-----------+----+------+---------+--------+--------------------+------+\n",
      "|75056|         Marco Marin|  M| 25|   180|    71|Italy|ITA|1988 Summer|1988|Summer|    Seoul| Fencing|Fencing Men's Sab...|    NA|\n",
      "|75056|         Marco Marin|  M| 25|   180|    71|Italy|ITA|1988 Summer|1988|Summer|    Seoul| Fencing|Fencing Men's Sab...|Bronze|\n",
      "|75056|         Marco Marin|  M| 29|   180|    71|Italy|ITA|1992 Summer|1992|Summer|Barcelona| Fencing|Fencing Men's Sab...|Silver|\n",
      "|75056|         Marco Marin|  M| 29|   180|    71|Italy|ITA|1992 Summer|1992|Summer|Barcelona| Fencing|Fencing Men's Sab...|    NA|\n",
      "|75057|Montserrat Marin ...|  F| 23|    NA|    NA|Spain|ESP|1992 Summer|1992|Summer|Barcelona|Handball|Handball Women's ...|    NA|\n",
      "+-----+--------------------+---+---+------+------+-----+---+-----------+----+------+---------+--------+--------------------+------+\n",
      "only showing top 5 rows\n",
      "\n"
     ]
    }
   ],
   "source": [
    "Read_From_MySQL.show(5)"
   ]
  },
  {
   "cell_type": "code",
   "execution_count": null,
   "metadata": {},
   "outputs": [],
   "source": []
  }
 ],
 "metadata": {
  "kernelspec": {
   "display_name": "Python 3",
   "language": "python",
   "name": "python3"
  },
  "language_info": {
   "codemirror_mode": {
    "name": "ipython",
    "version": 3
   },
   "file_extension": ".py",
   "mimetype": "text/x-python",
   "name": "python",
   "nbconvert_exporter": "python",
   "pygments_lexer": "ipython3",
   "version": "3.4.3"
  }
 },
 "nbformat": 4,
 "nbformat_minor": 2
}
