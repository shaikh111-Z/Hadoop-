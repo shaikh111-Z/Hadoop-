{
 "cells": [
  {
   "cell_type": "code",
   "execution_count": 1,
   "metadata": {},
   "outputs": [],
   "source": [
    "from pyspark.sql import SparkSession\n",
    "from pyspark.sql.functions import *\n",
    "from pyspark.sql import HiveContext"
   ]
  },
  {
   "cell_type": "code",
   "execution_count": 2,
   "metadata": {},
   "outputs": [],
   "source": [
    "#Create a spark session\n",
    "spark = SparkSession.builder \\\n",
    ".appName(\"ReadingFromHive\") \\\n",
    ".master(\"local\") \\\n",
    ".enableHiveSupport() \\\n",
    ".getOrCreate()"
   ]
  },
  {
   "cell_type": "code",
   "execution_count": 3,
   "metadata": {},
   "outputs": [],
   "source": [
    "df = spark.sql(\"select * from fish_data\")"
   ]
  },
  {
   "cell_type": "code",
   "execution_count": 4,
   "metadata": {},
   "outputs": [
    {
     "name": "stdout",
     "output_type": "stream",
     "text": [
      "+-------+------+-------+-------+-------+-------+------+\n",
      "|species|weight|length1|length2|length3| height| width|\n",
      "+-------+------+-------+-------+-------+-------+------+\n",
      "|Species|  null|   null|   null|   null|   null|  null|\n",
      "|  Bream| 242.0|   23.2|   25.4|   30.0|  11.52|  4.02|\n",
      "|  Bream| 290.0|   24.0|   26.3|   31.2|  12.48|4.3056|\n",
      "|  Bream| 340.0|   23.9|   26.5|   31.1|12.3778|4.6961|\n",
      "|  Bream| 363.0|   26.3|   29.0|   33.5|  12.73|4.4555|\n",
      "+-------+------+-------+-------+-------+-------+------+\n",
      "only showing top 5 rows\n",
      "\n"
     ]
    }
   ],
   "source": [
    "df.show(5)"
   ]
  },
  {
   "cell_type": "code",
   "execution_count": 7,
   "metadata": {},
   "outputs": [],
   "source": [
    "df = spark.sql(\"select * from fish_data where Species is not null\")"
   ]
  },
  {
   "cell_type": "code",
   "execution_count": 8,
   "metadata": {},
   "outputs": [
    {
     "name": "stdout",
     "output_type": "stream",
     "text": [
      "+-------+------+-------+-------+-------+-------+------+\n",
      "|species|weight|length1|length2|length3| height| width|\n",
      "+-------+------+-------+-------+-------+-------+------+\n",
      "|Species|  null|   null|   null|   null|   null|  null|\n",
      "|  Bream| 242.0|   23.2|   25.4|   30.0|  11.52|  4.02|\n",
      "|  Bream| 290.0|   24.0|   26.3|   31.2|  12.48|4.3056|\n",
      "|  Bream| 340.0|   23.9|   26.5|   31.1|12.3778|4.6961|\n",
      "|  Bream| 363.0|   26.3|   29.0|   33.5|  12.73|4.4555|\n",
      "+-------+------+-------+-------+-------+-------+------+\n",
      "only showing top 5 rows\n",
      "\n"
     ]
    }
   ],
   "source": [
    "df.show(5)"
   ]
  },
  {
   "cell_type": "code",
   "execution_count": null,
   "metadata": {},
   "outputs": [],
   "source": []
  }
 ],
 "metadata": {
  "kernelspec": {
   "display_name": "Python 3",
   "language": "python",
   "name": "python3"
  },
  "language_info": {
   "codemirror_mode": {
    "name": "ipython",
    "version": 3
   },
   "file_extension": ".py",
   "mimetype": "text/x-python",
   "name": "python",
   "nbconvert_exporter": "python",
   "pygments_lexer": "ipython3",
   "version": "3.4.3"
  }
 },
 "nbformat": 4,
 "nbformat_minor": 2
}
